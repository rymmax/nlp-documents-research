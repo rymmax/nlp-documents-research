{
 "cells": [
  {
   "cell_type": "code",
   "execution_count": null,
   "id": "92d1c61b",
   "metadata": {},
   "outputs": [],
   "source": [
    "# Let's download finance papers from arxiv.org\n",
    "\n",
    "import arxiv # https://github.com/lukasschwab/arxiv.py\n",
    "import glob\n",
    "import itertools\n",
    "import os\n",
    "import tika\n",
    "import warnings\n",
    "\n",
    "from collections import Counter\n",
    "from tika import parser\n",
    "\n",
    "warnings.filterwarnings(action='ignore')"
   ]
  },
  {
   "cell_type": "code",
   "execution_count": null,
   "id": "247f8f54",
   "metadata": {},
   "outputs": [],
   "source": [
    "paper_info = arxiv.query(search_query=\"quantitative finance\",\n",
    "                         max_results = 3000, start = 500)\n",
    "for i in range(0, 3001):\n",
    "    try: arxiv.download(paper_info[i], dirname='./papers/', slugify=True)\n",
    "    except: pass"
   ]
  },
  {
   "cell_type": "code",
   "execution_count": null,
   "id": "f611eb15",
   "metadata": {},
   "outputs": [],
   "source": [
    "os.listdir('./papers')"
   ]
  },
  {
   "cell_type": "code",
   "execution_count": null,
   "id": "8186b06d",
   "metadata": {},
   "outputs": [],
   "source": [
    "l = len(os.listdir('./papers'))\n",
    "for i, f in enumerate(os.listdir('./papers')):\n",
    "    \n",
    "    renamed = f.split('.')[0] + '.txt'\n",
    "    try:\n",
    "        ! pdf2txt.py -o ./extracted_papers/{renamed} ./papers/{f}\n",
    "    except: print(f)\n",
    "    \n",
    "    print(str(i) + '/' + str(l))"
   ]
  },
  {
   "cell_type": "code",
   "execution_count": null,
   "id": "a04e2131",
   "metadata": {},
   "outputs": [],
   "source": [
    "# Now we're going to extract text using Tika library:\n",
    "tika.initVM()"
   ]
  },
  {
   "cell_type": "code",
   "execution_count": null,
   "id": "2002a7de",
   "metadata": {},
   "outputs": [],
   "source": [
    "# Let's parse & save documents\n",
    "\n",
    "parsed_number = 0\n",
    "for i in glob.glob('./papers/*.pdf'):\n",
    "    \n",
    "    try:\n",
    "        \n",
    "        parsed = parser.from_file(i)\n",
    "        file_name = i.split('\\\\')[-1].split('.')[0][:50]\n",
    "        text_file = open('./extracted_papers/' + file_name + \".txt\", \"wb\")\n",
    "        text_file.write(parsed[\"content\"].encode('utf-8', errors='ignore'))\n",
    "        \n",
    "    except: pass\n",
    "    \n",
    "    parsed_number += 1\n",
    "    if parsed_number %50 == 0: print(str(parsed_number) + ' papers extracted.')\n",
    "    text_file.close()"
   ]
  },
  {
   "cell_type": "code",
   "execution_count": null,
   "id": "e22601d8",
   "metadata": {},
   "outputs": [],
   "source": []
  }
 ],
 "metadata": {
  "kernelspec": {
   "display_name": "Python 3 (ipykernel)",
   "language": "python",
   "name": "python3"
  },
  "language_info": {
   "codemirror_mode": {
    "name": "ipython",
    "version": 3
   },
   "file_extension": ".py",
   "mimetype": "text/x-python",
   "name": "python",
   "nbconvert_exporter": "python",
   "pygments_lexer": "ipython3",
   "version": "3.9.13"
  }
 },
 "nbformat": 4,
 "nbformat_minor": 5
}
